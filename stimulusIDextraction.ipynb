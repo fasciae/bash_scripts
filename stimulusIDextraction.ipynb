{
 "cells": [
  {
   "cell_type": "code",
   "execution_count": 1,
   "metadata": {},
   "outputs": [],
   "source": [
    "import os, h5py"
   ]
  },
  {
   "cell_type": "code",
   "execution_count": 62,
   "metadata": {},
   "outputs": [
    {
     "data": {
      "text/plain": [
       "['2019-06-28_11-14-56', 'block_log_file.json']"
      ]
     },
     "execution_count": 62,
     "metadata": {},
     "output_type": "execute_result"
    }
   ],
   "source": [
    "os.chdir(\"/mnt/cube/nyoni-raw/2019_06_27_B1150_MET/20190628-nyoni-B1150/201906281114-B1150-block-12-AP-0-ML-1300-Z-2150/\")\n",
    "os.listdir()"
   ]
  },
  {
   "cell_type": "code",
   "execution_count": 4,
   "metadata": {},
   "outputs": [
    {
     "data": {
      "text/plain": [
       "['event_types', 'recordings']"
      ]
     },
     "execution_count": 4,
     "metadata": {},
     "output_type": "execute_result"
    }
   ],
   "source": [
    "f = h5py.File('experiment1.kwe', 'r')\n",
    "list(f.keys())"
   ]
  },
  {
   "cell_type": "code",
   "execution_count": 22,
   "metadata": {},
   "outputs": [
    {
     "data": {
      "text/plain": [
       "['channel_groups']"
      ]
     },
     "execution_count": 22,
     "metadata": {},
     "output_type": "execute_result"
    }
   ],
   "source": [
    "g = h5py.File('experiment1.kwx', 'r')\n",
    "list(g.keys())"
   ]
  },
  {
   "cell_type": "code",
   "execution_count": 14,
   "metadata": {},
   "outputs": [
    {
     "data": {
      "text/plain": [
       "[b'Software time: 2158@1000000Hz',\n",
       " b'StartRecord CreateNewDir=0 RecDir=/home/gentnerlab0/experiments/20190130-nyoni/B970/blocks/201901300906-B970-block-9-AP-1250-ML-750-Z-1750',\n",
       " b'isRecording',\n",
       " b'GetRecordingPath',\n",
       " b'Processor: Rhythm FPGA Id: 101 subProcessor: 0 start time: 2048@30000Hz',\n",
       " b'stim /home/gentnerlab0/stimuli/longsongs/rmp5ms_G122-29.wav.sine']"
      ]
     },
     "execution_count": 14,
     "metadata": {},
     "output_type": "execute_result"
    }
   ],
   "source": [
    "list(f['event_types']['Messages']['events']['user_data']['Text'])"
   ]
  },
  {
   "cell_type": "code",
   "execution_count": 61,
   "metadata": {},
   "outputs": [
    {
     "data": {
      "text/plain": [
       "[101, 101]"
      ]
     },
     "execution_count": 61,
     "metadata": {},
     "output_type": "execute_result"
    }
   ],
   "source": [
    "list(f['event_types']['TTL']['events']['user_data']['nodeID'])"
   ]
  },
  {
   "cell_type": "code",
   "execution_count": 58,
   "metadata": {},
   "outputs": [
    {
     "data": {
      "text/plain": [
       "<HDF5 group \"/event_types/TTL/events/user_data\" (3 members)>"
      ]
     },
     "execution_count": 58,
     "metadata": {},
     "output_type": "execute_result"
    }
   ],
   "source": [
    "dset = f['event_types']['TTL']['events']['user_data']['events']\n",
    "dset"
   ]
  },
  {
   "cell_type": "code",
   "execution_count": 25,
   "metadata": {},
   "outputs": [
    {
     "data": {
      "text/plain": [
       "[255, 0, 0, 0, 255, 0]"
      ]
     },
     "execution_count": 25,
     "metadata": {},
     "output_type": "execute_result"
    }
   ],
   "source": [
    "list(f['event_types']['Messages']['events']['user_data']['eventID'])"
   ]
  },
  {
   "cell_type": "code",
   "execution_count": 58,
   "metadata": {},
   "outputs": [
    {
     "data": {
      "text/plain": [
       "'/home/gentnerlab0/stimuli/MET_prediction_expt'"
      ]
     },
     "execution_count": 58,
     "metadata": {},
     "output_type": "execute_result"
    }
   ],
   "source": [
    "stimdir = os.path.split(list(f['event_types']['Messages']['events']['user_data']['Text'])[5][5:])[0].decode('utf-8')\n",
    "stimdir"
   ]
  },
  {
   "cell_type": "code",
   "execution_count": 65,
   "metadata": {},
   "outputs": [
    {
     "name": "stdout",
     "output_type": "stream",
     "text": [
      "/home/gentnerlab0/stimuli/MET_prediction_expt/\n"
     ]
    }
   ],
   "source": [
    "import json\n",
    "with open('block_log_file.json') as json_file:\n",
    "    data = json.load(json_file)\n",
    "    print(data['stimuli_folder'])"
   ]
  }
 ],
 "metadata": {
  "kernelspec": {
   "display_name": "Python 3",
   "language": "python",
   "name": "python3"
  },
  "language_info": {
   "codemirror_mode": {
    "name": "ipython",
    "version": 3
   },
   "file_extension": ".py",
   "mimetype": "text/x-python",
   "name": "python",
   "nbconvert_exporter": "python",
   "pygments_lexer": "ipython3",
   "version": "3.6.7"
  }
 },
 "nbformat": 4,
 "nbformat_minor": 2
}
