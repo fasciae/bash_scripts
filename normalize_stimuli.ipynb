{
 "cells": [
  {
   "cell_type": "code",
   "execution_count": 32,
   "metadata": {
    "collapsed": true
   },
   "outputs": [],
   "source": [
    "import soundfile as sf\n",
    "import pyloudnorm as pyln\n",
    "import os, json\n",
    "\n",
    "data, rate = sf.read(\"101_E2_@2.wav\") # load audio (with shape (samples, channels))\n",
    "meter = pyln.Meter(rate) # create BS.1770 meter\n",
    "loudness = meter.integrated_loudness(data) # measure loudness"
   ]
  },
  {
   "cell_type": "code",
   "execution_count": 2,
   "metadata": {},
   "outputs": [
    {
     "data": {
      "text/plain": [
       "-31.28803587382477"
      ]
     },
     "execution_count": 2,
     "metadata": {},
     "output_type": "execute_result"
    }
   ],
   "source": [
    "loudness"
   ]
  },
  {
   "cell_type": "code",
   "execution_count": 3,
   "metadata": {},
   "outputs": [
    {
     "name": "stdout",
     "output_type": "stream",
     "text": [
      "Successfully created the directory /home/mturvey/stims/stims \n"
     ]
    }
   ],
   "source": [
    "path = os.getcwd()\n",
    "normPath = path+\"/normalized/\"\n",
    "\n",
    "try:\n",
    "    os.mkdir(normPath)\n",
    "except OSError:\n",
    "    print (\"Creation of the directory %s failed\" % normPath)\n",
    "else:\n",
    "    print (\"Successfully created the directory %s \" % normPath)"
   ]
  },
  {
   "cell_type": "code",
   "execution_count": 14,
   "metadata": {},
   "outputs": [
    {
     "name": "stdout",
     "output_type": "stream",
     "text": [
      "101_E2_@2.wav loudness -31.28803587382477dB\n"
     ]
    }
   ],
   "source": [
    "currWav = \"101_E2_@2.wav\"\n",
    "data, rate = sf.read(currWav) # load audio\n",
    "\n",
    "# peak normalize audio to -1 dB\n",
    "peak_normalized_audio = pyln.normalize.peak(data, -1.0)\n",
    "\n",
    "# measure the loudness first \n",
    "meter = pyln.Meter(rate) # create BS.1770 meter\n",
    "loudness = meter.integrated_loudness(data)\n",
    "print(currWav + \" loudness \" + str(loudness) + \"dB\")\n",
    "# loudness normalize audio to -12 dB LUFS\n",
    "loudness_normalized_audio = pyln.normalize.loudness(data, loudness, -23.0)\n"
   ]
  },
  {
   "cell_type": "code",
   "execution_count": 15,
   "metadata": {},
   "outputs": [],
   "source": [
    "sf.write(os.path.join(normPath, currWav), loudness_normalized_audio, rate)"
   ]
  },
  {
   "cell_type": "code",
   "execution_count": 38,
   "metadata": {},
   "outputs": [
    {
     "name": "stdout",
     "output_type": "stream",
     "text": [
      "Skipping .ipynb_checkpoints\n",
      "101_E2_@2.wav loudness -31.28803587382477dB\n",
      "13_B1_@2.wav loudness -24.732958448314196dB\n",
      "14_B1_@2.wav loudness -30.573082968943513dB\n",
      "17_B1_@2.wav loudness -16.52228738920208dB\n",
      "19_B2_@2.wav loudness -17.581128490372524dB\n",
      "1_A1_@2.wav loudness -26.110507367763557dB\n",
      "21_B2_@3.wav loudness -9.335045592489912dB\n",
      "22_B2_@2.wav loudness -19.811583197280672dB\n",
      "2_A1_@2.wav loudness -25.4916499339362dB\n",
      "3_A1_@2.wav loudness -21.975993252062494dB\n",
      "4_A2_@2.wav loudness -21.23423249939085dB\n",
      "68_D1_@1.wav loudness -36.023462388717775dB\n",
      "6_A2_@2.wav loudness -17.583216998389393dB\n",
      "70_D1_@1.wav loudness -27.635480536034965dB\n",
      "73_D1_@1.wav loudness -34.50305078015476dB\n",
      "79_D2_@1.wav loudness -32.401945023334946dB\n",
      "7_A2_@1.wav loudness -11.739572984461129dB\n",
      "80_D2_@3.wav loudness -31.235979958573115dB\n",
      "83_D2_@1.wav loudness -19.638837350198926dB\n",
      "86_E1_@1.wav loudness -32.17409908771701dB\n",
      "87_E1_@2.wav loudness -31.836139280105733dB\n",
      "93_E1_@2.wav loudness -33.407093362899786dB\n",
      "96_E2_@2.wav loudness -28.754039758900692dB\n"
     ]
    },
    {
     "name": "stderr",
     "output_type": "stream",
     "text": [
      "/home/mturvey/anaconda3/lib/python3.6/site-packages/pyloudnorm/normalize.py:62: UserWarning: Possible clipped samples in output.\n",
      "  warnings.warn(\"Possible clipped samples in output.\")\n"
     ]
    },
    {
     "name": "stdout",
     "output_type": "stream",
     "text": [
      "99_E2_@1.wav loudness -30.026228188380937dB\n",
      "A2-1 165_s_03 @1.wav loudness -40.67667939869474dB\n",
      "A3 + B3 165_s_13 @1.wav loudness -40.42880781326356dB\n",
      "A62 165_s_62 @1.wav loudness -44.09299971379711dB\n",
      "B11 165_s_17 @2.wav loudness -42.01979637926663dB\n",
      "B12 165_s_48 @1.wav loudness -41.29481980738857dB\n",
      "B18 211_s_58 @2.wav loudness -52.67436414429464dB\n",
      "B2 165_s_03 @3.wav loudness -47.390549873674466dB\n",
      "B21 165_s_49 @2.wav loudness -55.01895444035942dB\n",
      "Audio must be have length greater than the block size\n",
      "B22 211_s_59 @1.wav loudness -49.81223149525034dB\n",
      "B6 211_s_08 @1.wav loudness -44.82941309245921dB\n",
      "B7 211_s_26 @1.wav loudness -44.42797761868322dB\n",
      "B8 165_s_26 @1.wav loudness -39.076738160902615dB\n",
      "B_G105_s_03_@1.wav loudness -17.505975333541706dB\n",
      "C2 165_s_29 @2.wav loudness -49.964290503045774dB\n",
      "C29 165_s_29 @1.wav loudness -38.002580937317795dB\n",
      "C44 165_s_47 @2.wav loudness -53.42224464905246dB\n",
      "Audio must be have length greater than the block size\n",
      "C6 211_s_22 @1.wav loudness -40.042982272461245dB\n",
      "C7# 165_s_12 @1.wav loudness -48.47725319946223dB\n",
      "C8 165_s_08 @1.wav loudness -50.56645338519687dB\n",
      "D1 211_s_04 @2.wav loudness -50.41664378975527dB\n",
      "D2 165_s_20 @3.wav loudness -28.430486695934757dB\n",
      "D6 165_s_16 @1.wav loudness -52.77723255709753dB\n",
      "D6 211_s_15 @1.wav loudness -49.85411503568312dB\n",
      "D7 165_s_07 @2.wav loudness -37.82445633790876dB\n",
      "D8 165_s_08 @1.wav loudness -51.28513177071818dB\n",
      "E1 211_s_30 @1.wav loudness -37.9005028223732dB\n",
      "E2 165_s_12 @4.wav loudness -23.55535218730622dB\n",
      "E3 165_s_05 @3.wav loudness -47.017239865270405dB\n",
      "E6 165_s_12 @2.wav loudness -53.476965910201116dB\n",
      "E6 211_s_13 @1.wav loudness -44.76957960637576dB\n",
      "E7 165_s_32 @1.wav loudness -42.56517012034874dB\n",
      "F1 211_s_04 @2.wav loudness -35.87129754552261dB\n",
      "F2 165_s_06 @2.wav loudness -45.50144607432337dB\n",
      "F3 165_s_05 @3.wav loudness -41.00752231146719dB\n",
      "F6 165_s_16 @1.wav loudness -50.6735813971612dB\n",
      "F6 211_s_17 @1.wav loudness -47.51680300057989dB\n",
      "G1 211_s_04 @1.wav loudness -46.35721555394653dB\n"
     ]
    },
    {
     "name": "stderr",
     "output_type": "stream",
     "text": [
      "/home/mturvey/anaconda3/lib/python3.6/site-packages/pyloudnorm/normalize.py:62: UserWarning: Possible clipped samples in output.\n",
      "  warnings.warn(\"Possible clipped samples in output.\")\n",
      "/home/mturvey/anaconda3/lib/python3.6/site-packages/pyloudnorm/normalize.py:62: UserWarning: Possible clipped samples in output.\n",
      "  warnings.warn(\"Possible clipped samples in output.\")\n"
     ]
    },
    {
     "name": "stdout",
     "output_type": "stream",
     "text": [
      "G2 165_s_48 @1.wav loudness -35.35506783850775dB\n",
      "G2 211_s_09 @2.wav loudness -31.10257316448749dB\n",
      "G3 165_s_35 @2.wav loudness -39.793855378766715dB\n",
      "G6 165_s_26 @1.wav loudness -45.75250900658164dB\n",
      "G_G105_s_08_@1.wav loudness -32.92611481399015dB\n",
      "H2 165_s_06 @1.wav loudness -46.70797211468961dB\n",
      "H_G105_s_08_@2.wav loudness -36.83659388606966dB\n",
      "I1 211_s_04 @1.wav loudness -42.12381412306404dB\n",
      "I2 165_s_11 @1.wav loudness -40.31575162119364dB\n",
      "J1 211_s_03 @2.wav loudness -22.862020147822047dB\n",
      "J22 165_s_59 @1.wav loudness -32.00621158832648dB\n",
      "J32 165_s_35 @1.wav loudness -33.47499703443618dB\n",
      "J6 211_s_13 @2.wav loudness -42.03843220101026dB\n",
      "K1 211_s_06 @1.wav loudness -42.48489332708083dB\n",
      "K1_G105_s_04_@1.wav loudness -30.89458098996918dB\n",
      "K2 165_s_06 @2.wav loudness -42.35024978359656dB\n",
      "K6 211_s_18 @2.wav loudness -40.96189926829926dB\n",
      "K_G105_s_05_@1.wav loudness -29.22231771405584dB\n",
      "L1 211_s_16 @1.wav loudness -34.565866049943274dB\n",
      "L1_G105_s_06_@1.wav loudness -35.84623242044815dB\n",
      "L2_G105_s_01_@1.wav loudness -34.605119051481246dB\n",
      "L6 211_s_20 @2.wav loudness -47.24192836774169dB\n",
      "L_G105_s_04_@3.wav loudness -32.03298355056124dB\n",
      "M1 211_s_16 @1.wav loudness -46.03928727805787dB"
     ]
    },
    {
     "name": "stderr",
     "output_type": "stream",
     "text": [
      "/home/mturvey/anaconda3/lib/python3.6/site-packages/pyloudnorm/normalize.py:62: UserWarning: Possible clipped samples in output.\n",
      "  warnings.warn(\"Possible clipped samples in output.\")\n",
      "/home/mturvey/anaconda3/lib/python3.6/site-packages/pyloudnorm/normalize.py:62: UserWarning: Possible clipped samples in output.\n",
      "  warnings.warn(\"Possible clipped samples in output.\")\n",
      "/home/mturvey/anaconda3/lib/python3.6/site-packages/pyloudnorm/normalize.py:62: UserWarning: Possible clipped samples in output.\n",
      "  warnings.warn(\"Possible clipped samples in output.\")\n",
      "/home/mturvey/anaconda3/lib/python3.6/site-packages/pyloudnorm/normalize.py:62: UserWarning: Possible clipped samples in output.\n",
      "  warnings.warn(\"Possible clipped samples in output.\")\n"
     ]
    },
    {
     "name": "stdout",
     "output_type": "stream",
     "text": [
      "\n",
      "M2 165_s_20 @1.wav loudness -26.281607381395137dB\n",
      "M6 211_s_10 @2.wav loudness -47.95462361995509dB\n",
      "Skipping MET_prediction_expt\n",
      "M_G105_s_06_@1.wav loudness -31.72046719359795dB\n",
      "N1 211_s_04 @1.wav loudness -44.503999825984636dB\n",
      "N2 165_s_09 @4.wav loudness -27.901953724585578dB\n",
      "N_G105_s_04_@2.wav loudness -31.759741553336195dB\n",
      "O1 211_s_11 @2.wav loudness -27.92503601163667dB\n",
      "O2 165_s_18 @2.wav loudness -20.663875225123665dB\n",
      "O_G105_s_04_@1.wav loudness -25.99555434984121dB\n",
      "P1 211_s_16 @1.wav loudness -26.100731619126822dB\n",
      "P2 165_s_16 @1.wav loudness -27.162667074654998dB\n",
      "P6 211_s_52 @1.wav loudness -41.56659987806412dB\n"
     ]
    },
    {
     "name": "stderr",
     "output_type": "stream",
     "text": [
      "/home/mturvey/anaconda3/lib/python3.6/site-packages/pyloudnorm/normalize.py:62: UserWarning: Possible clipped samples in output.\n",
      "  warnings.warn(\"Possible clipped samples in output.\")\n",
      "/home/mturvey/anaconda3/lib/python3.6/site-packages/pyloudnorm/normalize.py:62: UserWarning: Possible clipped samples in output.\n",
      "  warnings.warn(\"Possible clipped samples in output.\")\n",
      "/home/mturvey/anaconda3/lib/python3.6/site-packages/pyloudnorm/normalize.py:62: UserWarning: Possible clipped samples in output.\n",
      "  warnings.warn(\"Possible clipped samples in output.\")\n"
     ]
    },
    {
     "name": "stdout",
     "output_type": "stream",
     "text": [
      "P_G105_s_07_@1.wav loudness -28.819310002537787dB\n",
      "Q2 211_s_05 @2.wav loudness -42.857787968075826dB\n",
      "Q2_G105_s_04_@2.wav loudness -25.258680064594632dB\n",
      "Q6 211_s_29 @1.wav loudness -46.302833363277784dB\n",
      "R1 211_s_16 @2.wav loudness -26.693735757853783dB\n",
      "R_G105_s_06_@1.wav loudness -11.728297187826826dB\n",
      "S2 211_s_24 @1.wav loudness -38.27581056135189dB\n",
      "S_G105_s_04_@2.wav loudness -8.046026112590736dB\n",
      "T1 211_s_04 @1.wav loudness -39.526533039717336dB\n",
      "T2 211_s_18 @1.wav loudness -31.39780481819177dB\n",
      "T_G105_s_04_@2.wav loudness -15.16839207133634dB\n",
      "U1 211_s_48 @1.wav loudness -24.29799950651529dB\n",
      "U1_G105_s_02@1.wav loudness -39.78642230762777dB\n",
      "U2 211_s_24 @1.wav loudness -28.08687150272242dB\n",
      "Skipping Untitled.ipynb\n",
      "V_G105_s_02_@1.wav loudness -13.13801003999731dB\n",
      "X_G105_s_05_@1.wav loudness -33.98197124443082dB\n",
      "Audio must be have length greater than the block size\n",
      "Z24 211_s_24 @1.wav loudness -19.575925473340472dB\n",
      "Z3 165_s_09 @1.wav loudness -46.53832240016649dB\n",
      "Z_G105_s_05_@1.wav loudness -29.02024919966944dB\n",
      "aa_G105_s_08_@2.wav loudness -33.534962165846444dB\n",
      "ee_G105_s_05_@2.wav loudness -25.62443496016591dB\n",
      "ff1_G105_s_06_@1.wav loudness -31.33714983412219dB\n",
      "gg_G105_s_06_@2.wav loudness -34.60806788769961dB\n"
     ]
    },
    {
     "name": "stderr",
     "output_type": "stream",
     "text": [
      "/home/mturvey/anaconda3/lib/python3.6/site-packages/pyloudnorm/normalize.py:62: UserWarning: Possible clipped samples in output.\n",
      "  warnings.warn(\"Possible clipped samples in output.\")\n",
      "/home/mturvey/anaconda3/lib/python3.6/site-packages/pyloudnorm/normalize.py:62: UserWarning: Possible clipped samples in output.\n",
      "  warnings.warn(\"Possible clipped samples in output.\")\n"
     ]
    },
    {
     "name": "stdout",
     "output_type": "stream",
     "text": [
      "Skipping normalized\n",
      "Skipping original 640 br stims\n",
      "rA1.wav loudness -31.953304454377832dB\n",
      "rA2.wav loudness -31.612352979390025dB\n",
      "rA3.wav loudness -29.336051200133806dB\n",
      "rA4.wav loudness -34.548292512322746dB\n",
      "rA5.wav loudness -26.94835231333912dB\n",
      "rA6.wav loudness -32.15835885361543dB\n",
      "rA7.wav loudness -31.295838201893226dB\n",
      "rA8.wav loudness -30.769662678691773dB\n",
      "rC1.wav loudness -21.758191183271947dB\n",
      "rC2.wav loudness -30.078444308762748dB\n",
      "rC3.wav loudness -28.042394341011214dB\n"
     ]
    },
    {
     "name": "stderr",
     "output_type": "stream",
     "text": [
      "/home/mturvey/anaconda3/lib/python3.6/site-packages/pyloudnorm/normalize.py:62: UserWarning: Possible clipped samples in output.\n",
      "  warnings.warn(\"Possible clipped samples in output.\")\n"
     ]
    },
    {
     "name": "stdout",
     "output_type": "stream",
     "text": [
      "rC4.wav loudness -25.0443624882259dB\n",
      "rC5.wav loudness -22.34797840511077dB\n",
      "rC6.wav loudness -27.045963898470518dB\n",
      "rC7.wav loudness -27.61272034718503dB\n",
      "rC8.wav loudness -32.42490701998605dB\n",
      "rX1.wav loudness -27.41554873738347dB\n",
      "rX2.wav loudness -32.456008932541074dB\n",
      "rX3.wav loudness -25.506709288554433dB\n",
      "rX4.wav loudness -30.77063777666591dB\n",
      "rX5.wav loudness -29.31641264676233dB\n",
      "rX6.wav loudness -26.555318047625825dB\n",
      "rX7.wav loudness -26.514172252297865dB\n"
     ]
    },
    {
     "name": "stderr",
     "output_type": "stream",
     "text": [
      "/home/mturvey/anaconda3/lib/python3.6/site-packages/pyloudnorm/normalize.py:62: UserWarning: Possible clipped samples in output.\n",
      "  warnings.warn(\"Possible clipped samples in output.\")\n",
      "/home/mturvey/anaconda3/lib/python3.6/site-packages/pyloudnorm/normalize.py:62: UserWarning: Possible clipped samples in output.\n",
      "  warnings.warn(\"Possible clipped samples in output.\")\n"
     ]
    },
    {
     "name": "stdout",
     "output_type": "stream",
     "text": [
      "rX8.wav loudness -19.113847503663816dB\n",
      "Skipping scp10914\n",
      "Skipping scp13099\n",
      "Skipping temp files\n",
      "wB1.wav loudness -28.465552845431937dB\n",
      "wB2.wav loudness -32.47158689865058dB\n",
      "wB3.wav loudness -15.75559179999627dB\n",
      "wB4.wav loudness -24.440406005562725dB\n",
      "wB5.wav loudness -28.778482934262772dB\n",
      "wB6.wav loudness -19.168520878966227dB\n",
      "wB7.wav loudness -33.40791743169106dB\n",
      "wB8.wav loudness -33.06938828185348dB\n",
      "wD1.wav loudness -30.286904164137095dB\n",
      "wD2.wav loudness -26.643402448011056dB\n",
      "wD3.wav loudness -18.866902105389528dB\n",
      "wD4.wav loudness -20.9716098323267dB\n",
      "wD5.wav loudness -25.032535551733098dB\n",
      "wD6.wav loudness -34.24359959683607dB\n",
      "wD7.wav loudness -27.470895154238104dB\n",
      "wD8.wav loudness -31.084649149675325dB\n",
      "wY1.wav loudness -35.150851651293394dB\n",
      "wY2.wav loudness -33.76958280825259dB\n",
      "wY3.wav loudness -32.05344448208011dB\n",
      "wY4.wav loudness -32.62592572617556dB\n",
      "wY5.wav loudness -37.77350901012352dB\n"
     ]
    },
    {
     "name": "stderr",
     "output_type": "stream",
     "text": [
      "/home/mturvey/anaconda3/lib/python3.6/site-packages/pyloudnorm/normalize.py:62: UserWarning: Possible clipped samples in output.\n",
      "  warnings.warn(\"Possible clipped samples in output.\")\n"
     ]
    },
    {
     "ename": "FileNotFoundError",
     "evalue": "[Errno 2] No such file or directory: '/normalized/original_loudnesses.json'",
     "output_type": "error",
     "traceback": [
      "\u001b[0;31m---------------------------------------------------------------------------\u001b[0m",
      "\u001b[0;31mFileNotFoundError\u001b[0m                         Traceback (most recent call last)",
      "\u001b[0;32m<ipython-input-38-317195767d3d>\u001b[0m in \u001b[0;36m<module>\u001b[0;34m()\u001b[0m\n\u001b[1;32m     18\u001b[0m     \u001b[0;32melse\u001b[0m\u001b[0;34m:\u001b[0m\u001b[0;34m\u001b[0m\u001b[0m\n\u001b[1;32m     19\u001b[0m         \u001b[0mprint\u001b[0m\u001b[0;34m(\u001b[0m\u001b[0;34m\"Skipping \"\u001b[0m\u001b[0;34m+\u001b[0m\u001b[0mcurrWav\u001b[0m\u001b[0;34m)\u001b[0m\u001b[0;34m\u001b[0m\u001b[0m\n\u001b[0;32m---> 20\u001b[0;31m \u001b[0;32mwith\u001b[0m \u001b[0mopen\u001b[0m\u001b[0;34m(\u001b[0m\u001b[0;34m'/normalized/original_loudnesses.json'\u001b[0m\u001b[0;34m,\u001b[0m \u001b[0;34m'w'\u001b[0m\u001b[0;34m)\u001b[0m \u001b[0;32mas\u001b[0m \u001b[0mfp\u001b[0m\u001b[0;34m:\u001b[0m\u001b[0;34m\u001b[0m\u001b[0m\n\u001b[0m\u001b[1;32m     21\u001b[0m     \u001b[0mjson\u001b[0m\u001b[0;34m.\u001b[0m\u001b[0mdump\u001b[0m\u001b[0;34m(\u001b[0m\u001b[0moriginalLoudnesses\u001b[0m\u001b[0;34m,\u001b[0m \u001b[0mfp\u001b[0m\u001b[0;34m)\u001b[0m\u001b[0;34m\u001b[0m\u001b[0m\n",
      "\u001b[0;31mFileNotFoundError\u001b[0m: [Errno 2] No such file or directory: '/normalized/original_loudnesses.json'"
     ]
    }
   ],
   "source": [
    "originalLoudnesses = {}\n",
    "for currWav in os.listdir():\n",
    "    if \".wav\" in currWav:\n",
    "        data, rate = sf.read(currWav) # load audio\n",
    "        try:\n",
    "            # measure the loudness first \n",
    "            meter = pyln.Meter(rate) # create BS.1770 meter\n",
    "            loudness = meter.integrated_loudness(data)\n",
    "            originalLoudnesses[currWav] = loudness\n",
    "            print(currWav + \" loudness \" + str(loudness) + \"dB\")\n",
    "\n",
    "            # loudness normalize audio to -23 dB LUFS\n",
    "            loudness_normalized_audio = pyln.normalize.loudness(data, loudness, -23.0)\n",
    "\n",
    "            sf.write(os.path.join(normPath, currWav), loudness_normalized_audio, rate)\n",
    "        except Exception as e: \n",
    "            print(e)\n",
    "    else:\n",
    "        print(\"Skipping \"+currWav)\n",
    "with open(os.path.join(os.getcwd(), \"normalized/original_loudness.json\"), 'w') as fp:\n",
    "    json.dump(originalLoudnesses, fp)"
   ]
  },
  {
   "cell_type": "code",
   "execution_count": 1,
   "metadata": {},
   "outputs": [],
   "source": [
    "from pydub import AudioSegment\n",
    "\n",
    "def match_target_amplitude(sound, target_dBFS):\n",
    "    change_in_dBFS = target_dBFS - sound.dBFS\n",
    "    return sound.apply_gain(change_in_dBFS)"
   ]
  },
  {
   "cell_type": "code",
   "execution_count": 27,
   "metadata": {},
   "outputs": [
    {
     "data": {
      "text/plain": [
       "{'a': 1, 'b': 2, 'c': 3}"
      ]
     },
     "execution_count": 27,
     "metadata": {},
     "output_type": "execute_result"
    }
   ],
   "source": [
    "sound = AudioSegment.from_file(\"yourAudio.wav\", \"wav\")\n",
    "normalized_sound = match_target_amplitude(sound, -20.0)\n",
    "normalized_sound.export(\"normalizedAudio.wav\", format=\"wav\")"
   ]
  },
  {
   "cell_type": "code",
   "execution_count": 2,
   "metadata": {},
   "outputs": [],
   "source": [
    "import os\n",
    "os.chdir(\"/home/gentnerlab0/stimuli/MET_prediction_expt\")"
   ]
  },
  {
   "cell_type": "code",
   "execution_count": 3,
   "metadata": {},
   "outputs": [
    {
     "data": {
      "text/plain": [
       "-46.118698408341736"
      ]
     },
     "execution_count": 3,
     "metadata": {},
     "output_type": "execute_result"
    }
   ],
   "source": [
    "sound = AudioSegment.from_file(\"1_B18211_s_58@2___B12165_s_48@1.wav\")\n",
    "sound.dBFS"
   ]
  },
  {
   "cell_type": "code",
   "execution_count": 14,
   "metadata": {},
   "outputs": [
    {
     "name": "stdout",
     "output_type": "stream",
     "text": [
      "2_E6165_s_12@2___E6165_s_12@2.wav loudness -55.50174490930948dB\n",
      "Skipping 2_E6165_s_12@2___E6165_s_12@2.wav.sine\n",
      "2_E7165_s_32@1___E6165_s_12@2.wav loudness -48.44056499594966dB\n",
      "Skipping 2_E7165_s_32@1___E6165_s_12@2.wav.sine\n",
      "2_J22165_s_59@1___J32165_s_35@1.wav loudness -37.9480367649525dB\n",
      "Skipping 2_J22165_s_59@1___J32165_s_35@1.wav.sine\n",
      "2_K_G105_s_05_@1___J6211_s_13@2.wav loudness -29.95164431992424dB\n",
      "Skipping 2_K_G105_s_05_@1___J6211_s_13@2.wav.sine\n",
      "2_N1211_s_04@1___M2165_s_20@1.wav loudness -36.41689472052298dB\n",
      "Skipping generated_chronic_stimuli_df.pickle\n",
      "Skipping rmp5ms_181-11.wav.sine\n",
      "Skipping rmp5ms_181-27.wav.sine\n",
      "Skipping rmp5ms_G122-29.wav.sine\n",
      "Skipping rmp5ms_G124-18.wav.sine\n",
      "Skipping RMS_Normalized\n"
     ]
    }
   ],
   "source": [
    "#normalize to -20db using rms\n",
    "from pydub import AudioSegment\n",
    "import json\n",
    "\n",
    "def match_target_amplitude(sound, target_dBFS):\n",
    "    change_in_dBFS = target_dBFS - sound.dBFS\n",
    "    return sound.apply_gain(change_in_dBFS)\n",
    "\n",
    "originalLoudnesses = {}\n",
    "os.mkdir(\"RMS_Normalized\")\n",
    "for currWav in os.listdir():\n",
    "    if currWav.endswith(\".wav\"):\n",
    "        try:\n",
    "            sound = AudioSegment.from_file(currWav)\n",
    "            # measure the loudness first \n",
    "            loudness = sound.dBFS\n",
    "            print(currWav + \" loudness \" + str(loudness) + \"dB\")\n",
    "            originalLoudnesses[currWav] = loudness\n",
    "\n",
    "            # loudness normalize audio to -20dB using RMS\n",
    "            normalized_sound = match_target_amplitude(sound, -20.0)\n",
    "            normalized_sound.export(\"RMS_Normalized/\"+currWav, format=\"wav\")\n",
    "            \n",
    "        except Exception as e: \n",
    "            print(e)\n",
    "    else:\n",
    "        print(\"Skipping \"+currWav)\n",
    "        \n",
    "with open(os.path.join(os.getcwd(), \"RMS_Normalized/original_loudness.json\"), 'w+') as fp:\n",
    "    json.dump(originalLoudnesses, fp)"
   ]
  },
  {
   "cell_type": "code",
   "execution_count": 11,
   "metadata": {},
   "outputs": [],
   "source": [
    "os.chdir(\"../test\")"
   ]
  }
 ],
 "metadata": {
  "kernelspec": {
   "display_name": "Python 3",
   "language": "python",
   "name": "python3"
  },
  "language_info": {
   "codemirror_mode": {
    "name": "ipython",
    "version": 3
   },
   "file_extension": ".py",
   "mimetype": "text/x-python",
   "name": "python",
   "nbconvert_exporter": "python",
   "pygments_lexer": "ipython3",
   "version": "3.7.4"
  }
 },
 "nbformat": 4,
 "nbformat_minor": 2
}
